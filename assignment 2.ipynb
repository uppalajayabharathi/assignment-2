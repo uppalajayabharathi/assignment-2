{
 "cells": [
  {
   "cell_type": "code",
   "execution_count": 4,
   "id": "24f11233",
   "metadata": {},
   "outputs": [
    {
     "name": "stdout",
     "output_type": "stream",
     "text": [
      "p in python\n"
     ]
    }
   ],
   "source": [
    "print (\"p in python\")"
   ]
  },
  {
   "cell_type": "code",
   "execution_count": 5,
   "id": "9f39a359",
   "metadata": {},
   "outputs": [
    {
     "name": "stdout",
     "output_type": "stream",
     "text": [
      "4\n"
     ]
    }
   ],
   "source": [
    "a=9\n",
    "b=2\n",
    "div=(a//b)\n",
    "print (div)\n"
   ]
  },
  {
   "cell_type": "code",
   "execution_count": 7,
   "id": "8d57e310",
   "metadata": {},
   "outputs": [
    {
     "ename": "SyntaxError",
     "evalue": "invalid syntax (1287042342.py, line 3)",
     "output_type": "error",
     "traceback": [
      "\u001b[1;36m  Input \u001b[1;32mIn [7]\u001b[1;36m\u001b[0m\n\u001b[1;33m    elif (9 > 0) or False:\u001b[0m\n\u001b[1;37m    ^\u001b[0m\n\u001b[1;31mSyntaxError\u001b[0m\u001b[1;31m:\u001b[0m invalid syntax\n"
     ]
    }
   ],
   "source": [
    "if (9<0) and (0<-9):\n",
    "    print(\"hello\")\n",
    "    elif (9>0) or False:\n",
    "        print(\"good\")\n",
    "        else \n",
    "        print(\"bad\")\n",
    "        "
   ]
  },
  {
   "cell_type": "code",
   "execution_count": null,
   "id": "80211885",
   "metadata": {},
   "outputs": [],
   "source": []
  }
 ],
 "metadata": {
  "kernelspec": {
   "display_name": "Python 3 (ipykernel)",
   "language": "python",
   "name": "python3"
  },
  "language_info": {
   "codemirror_mode": {
    "name": "ipython",
    "version": 3
   },
   "file_extension": ".py",
   "mimetype": "text/x-python",
   "name": "python",
   "nbconvert_exporter": "python",
   "pygments_lexer": "ipython3",
   "version": "3.9.12"
  }
 },
 "nbformat": 4,
 "nbformat_minor": 5
}
